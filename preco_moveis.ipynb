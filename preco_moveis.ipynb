{
 "cells": [
  {
   "cell_type": "markdown",
   "id": "61e6e5e3",
   "metadata": {},
   "source": [
    "# Preço de Celular Móvel\n",
    "\n",
    "[https://www.kaggle.com/datasets/howisusmanali/mobile-prices-2023](https://www.kaggle.com/datasets/howisusmanali/mobile-prices-2023)\n",
    "\n",
    "Objetivo de prever o valor dos telefones móveis"
   ]
  },
  {
   "cell_type": "code",
   "execution_count": 298,
   "id": "2759c00c",
   "metadata": {},
   "outputs": [],
   "source": [
    "# importar o pandas e numpy\n",
    "import pandas as pd\n",
    "import numpy as np"
   ]
  },
  {
   "cell_type": "code",
   "execution_count": 299,
   "id": "79b54233",
   "metadata": {
    "scrolled": true
   },
   "outputs": [
    {
     "data": {
      "text/html": [
       "<div>\n",
       "<style scoped>\n",
       "    .dataframe tbody tr th:only-of-type {\n",
       "        vertical-align: middle;\n",
       "    }\n",
       "\n",
       "    .dataframe tbody tr th {\n",
       "        vertical-align: top;\n",
       "    }\n",
       "\n",
       "    .dataframe thead th {\n",
       "        text-align: right;\n",
       "    }\n",
       "</style>\n",
       "<table border=\"1\" class=\"dataframe\">\n",
       "  <thead>\n",
       "    <tr style=\"text-align: right;\">\n",
       "      <th></th>\n",
       "      <th>Phone Name</th>\n",
       "      <th>Rating ?/5</th>\n",
       "      <th>Number of Ratings</th>\n",
       "      <th>RAM</th>\n",
       "      <th>ROM/Storage</th>\n",
       "      <th>Back/Rare Camera</th>\n",
       "      <th>Front Camera</th>\n",
       "      <th>Battery</th>\n",
       "      <th>Processor</th>\n",
       "      <th>Price in INR</th>\n",
       "      <th>Date of Scraping</th>\n",
       "    </tr>\n",
       "  </thead>\n",
       "  <tbody>\n",
       "    <tr>\n",
       "      <th>0</th>\n",
       "      <td>POCO C50 (Royal Blue, 32 GB)</td>\n",
       "      <td>4.2</td>\n",
       "      <td>33,561</td>\n",
       "      <td>2 GB RAM</td>\n",
       "      <td>32 GB ROM</td>\n",
       "      <td>8MP Dual Camera</td>\n",
       "      <td>5MP Front Camera</td>\n",
       "      <td>5000 mAh</td>\n",
       "      <td>Mediatek Helio A22 Processor, Upto 2.0 GHz Pro...</td>\n",
       "      <td>₹5,649</td>\n",
       "      <td>2023-06-17</td>\n",
       "    </tr>\n",
       "    <tr>\n",
       "      <th>1</th>\n",
       "      <td>POCO M4 5G (Cool Blue, 64 GB)</td>\n",
       "      <td>4.2</td>\n",
       "      <td>77,128</td>\n",
       "      <td>4 GB RAM</td>\n",
       "      <td>64 GB ROM</td>\n",
       "      <td>50MP + 2MP</td>\n",
       "      <td>8MP Front Camera</td>\n",
       "      <td>5000 mAh</td>\n",
       "      <td>Mediatek Dimensity 700 Processor</td>\n",
       "      <td>₹11,999</td>\n",
       "      <td>2023-06-17</td>\n",
       "    </tr>\n",
       "    <tr>\n",
       "      <th>2</th>\n",
       "      <td>POCO C51 (Royal Blue, 64 GB)</td>\n",
       "      <td>4.3</td>\n",
       "      <td>15,175</td>\n",
       "      <td>4 GB RAM</td>\n",
       "      <td>64 GB ROM</td>\n",
       "      <td>8MP Dual Rear Camera</td>\n",
       "      <td>5MP Front Camera</td>\n",
       "      <td>5000 mAh</td>\n",
       "      <td>Helio G36 Processor</td>\n",
       "      <td>₹6,999</td>\n",
       "      <td>2023-06-17</td>\n",
       "    </tr>\n",
       "  </tbody>\n",
       "</table>\n",
       "</div>"
      ],
      "text/plain": [
       "                      Phone Name  Rating ?/5 Number of Ratings       RAM  \\\n",
       "0   POCO C50 (Royal Blue, 32 GB)         4.2            33,561  2 GB RAM   \n",
       "1  POCO M4 5G (Cool Blue, 64 GB)         4.2            77,128  4 GB RAM   \n",
       "2   POCO C51 (Royal Blue, 64 GB)         4.3            15,175  4 GB RAM   \n",
       "\n",
       "  ROM/Storage      Back/Rare Camera      Front Camera   Battery  \\\n",
       "0   32 GB ROM       8MP Dual Camera  5MP Front Camera  5000 mAh   \n",
       "1   64 GB ROM            50MP + 2MP  8MP Front Camera  5000 mAh   \n",
       "2   64 GB ROM  8MP Dual Rear Camera  5MP Front Camera  5000 mAh   \n",
       "\n",
       "                                           Processor Price in INR  \\\n",
       "0  Mediatek Helio A22 Processor, Upto 2.0 GHz Pro...       ₹5,649   \n",
       "1                   Mediatek Dimensity 700 Processor      ₹11,999   \n",
       "2                                Helio G36 Processor       ₹6,999   \n",
       "\n",
       "  Date of Scraping  \n",
       "0       2023-06-17  \n",
       "1       2023-06-17  \n",
       "2       2023-06-17  "
      ]
     },
     "execution_count": 299,
     "metadata": {},
     "output_type": "execute_result"
    }
   ],
   "source": [
    "# ler a base de dados\n",
    "tabela = pd.read_csv('mobile_prices_2023.csv')\n",
    "tabela.head(3)"
   ]
  },
  {
   "cell_type": "code",
   "execution_count": 300,
   "id": "8bb0d87e",
   "metadata": {},
   "outputs": [
    {
     "name": "stdout",
     "output_type": "stream",
     "text": [
      "<class 'pandas.core.frame.DataFrame'>\n",
      "RangeIndex: 1836 entries, 0 to 1835\n",
      "Data columns (total 11 columns):\n",
      " #   Column             Non-Null Count  Dtype  \n",
      "---  ------             --------------  -----  \n",
      " 0   Phone Name         1836 non-null   object \n",
      " 1   Rating ?/5         1836 non-null   float64\n",
      " 2   Number of Ratings  1836 non-null   object \n",
      " 3   RAM                1836 non-null   object \n",
      " 4   ROM/Storage        1662 non-null   object \n",
      " 5   Back/Rare Camera   1827 non-null   object \n",
      " 6   Front Camera       1435 non-null   object \n",
      " 7   Battery            1826 non-null   object \n",
      " 8   Processor          1781 non-null   object \n",
      " 9   Price in INR       1836 non-null   object \n",
      " 10  Date of Scraping   1836 non-null   object \n",
      "dtypes: float64(1), object(10)\n",
      "memory usage: 157.9+ KB\n"
     ]
    }
   ],
   "source": [
    "# informação da tabela\n",
    "tabela.info()"
   ]
  },
  {
   "cell_type": "code",
   "execution_count": 301,
   "id": "4fb9e892",
   "metadata": {
    "scrolled": true
   },
   "outputs": [
    {
     "data": {
      "text/plain": [
       "Phone Name            object\n",
       "Rating ?/5           float64\n",
       "Number of Ratings     object\n",
       "RAM                   object\n",
       "ROM/Storage           object\n",
       "Back/Rare Camera      object\n",
       "Front Camera          object\n",
       "Battery               object\n",
       "Processor             object\n",
       "Price in INR          object\n",
       "Date of Scraping      object\n",
       "dtype: object"
      ]
     },
     "execution_count": 301,
     "metadata": {},
     "output_type": "execute_result"
    }
   ],
   "source": [
    "# verificando os tipos das variaveis\n",
    "tabela.dtypes"
   ]
  },
  {
   "cell_type": "markdown",
   "id": "ace3c2d2",
   "metadata": {},
   "source": [
    "## Transformando String em números"
   ]
  },
  {
   "cell_type": "code",
   "execution_count": 302,
   "id": "a04bfaa6",
   "metadata": {},
   "outputs": [],
   "source": [
    "lis_ava = []\n",
    "for num in tabela['Number of Ratings']:\n",
    "    num = int(num.replace(',', ''))\n",
    "    lis_ava.append(num)\n",
    "\n",
    "avaliacoes = pd.DataFrame(lis_ava, columns=['Avalicoes'])\n",
    "tabela = pd.concat([tabela, avaliacoes], axis=1)"
   ]
  },
  {
   "cell_type": "code",
   "execution_count": 303,
   "id": "1d318052",
   "metadata": {},
   "outputs": [
    {
     "name": "stdout",
     "output_type": "stream",
     "text": [
      "<class 'pandas.core.frame.DataFrame'>\n",
      "RangeIndex: 1836 entries, 0 to 1835\n",
      "Data columns (total 12 columns):\n",
      " #   Column             Non-Null Count  Dtype  \n",
      "---  ------             --------------  -----  \n",
      " 0   Phone Name         1836 non-null   object \n",
      " 1   Rating ?/5         1836 non-null   float64\n",
      " 2   Number of Ratings  1836 non-null   object \n",
      " 3   RAM                1836 non-null   object \n",
      " 4   ROM/Storage        1662 non-null   object \n",
      " 5   Back/Rare Camera   1827 non-null   object \n",
      " 6   Front Camera       1435 non-null   object \n",
      " 7   Battery            1826 non-null   object \n",
      " 8   Processor          1781 non-null   object \n",
      " 9   Price in INR       1836 non-null   object \n",
      " 10  Date of Scraping   1836 non-null   object \n",
      " 11  Avalicoes          1836 non-null   int64  \n",
      "dtypes: float64(1), int64(1), object(10)\n",
      "memory usage: 172.2+ KB\n"
     ]
    }
   ],
   "source": [
    "tabela.info()"
   ]
  },
  {
   "cell_type": "code",
   "execution_count": 304,
   "id": "d426d177",
   "metadata": {
    "scrolled": true
   },
   "outputs": [],
   "source": [
    "lis_preco = []\n",
    "for num in tabela['Price in INR']:\n",
    "    num = float(num[1:].replace(',', ''))\n",
    "    lis_preco.append(num)\n",
    "\n",
    "preco = pd.DataFrame(lis_preco, columns=['Preco'])\n",
    "tabela = pd.concat([tabela, preco], axis=1)"
   ]
  },
  {
   "cell_type": "code",
   "execution_count": 305,
   "id": "d2ed4678",
   "metadata": {},
   "outputs": [
    {
     "name": "stdout",
     "output_type": "stream",
     "text": [
      "<class 'pandas.core.frame.DataFrame'>\n",
      "RangeIndex: 1836 entries, 0 to 1835\n",
      "Data columns (total 13 columns):\n",
      " #   Column             Non-Null Count  Dtype  \n",
      "---  ------             --------------  -----  \n",
      " 0   Phone Name         1836 non-null   object \n",
      " 1   Rating ?/5         1836 non-null   float64\n",
      " 2   Number of Ratings  1836 non-null   object \n",
      " 3   RAM                1836 non-null   object \n",
      " 4   ROM/Storage        1662 non-null   object \n",
      " 5   Back/Rare Camera   1827 non-null   object \n",
      " 6   Front Camera       1435 non-null   object \n",
      " 7   Battery            1826 non-null   object \n",
      " 8   Processor          1781 non-null   object \n",
      " 9   Price in INR       1836 non-null   object \n",
      " 10  Date of Scraping   1836 non-null   object \n",
      " 11  Avalicoes          1836 non-null   int64  \n",
      " 12  Preco              1836 non-null   float64\n",
      "dtypes: float64(2), int64(1), object(10)\n",
      "memory usage: 186.6+ KB\n"
     ]
    }
   ],
   "source": [
    "tabela.info()"
   ]
  },
  {
   "cell_type": "code",
   "execution_count": 306,
   "id": "70d8bfed",
   "metadata": {},
   "outputs": [
    {
     "data": {
      "text/plain": [
       "Index(['Phone Name', 'Rating ?/5', 'Number of Ratings', 'RAM', 'ROM/Storage',\n",
       "       'Back/Rare Camera', 'Front Camera', 'Battery', 'Processor',\n",
       "       'Price in INR', 'Date of Scraping', 'Avalicoes', 'Preco'],\n",
       "      dtype='object')"
      ]
     },
     "execution_count": 306,
     "metadata": {},
     "output_type": "execute_result"
    }
   ],
   "source": [
    "tabela.columns"
   ]
  },
  {
   "cell_type": "code",
   "execution_count": 307,
   "id": "04e91df3",
   "metadata": {},
   "outputs": [],
   "source": [
    "tabela.columns = ['Phone Name', 'Rating ?/5', 'Number of Ratings', 'RAM', 'ROM/Storage',\n",
    "       'Back/Rare Camera', 'Front Camera', 'Battery', 'Processor',\n",
    "       'Price in INR', 'Date of Scraping', 'Num-avaliações', 'Preco']"
   ]
  },
  {
   "cell_type": "code",
   "execution_count": 308,
   "id": "91a2eb8a",
   "metadata": {
    "scrolled": true
   },
   "outputs": [
    {
     "data": {
      "text/html": [
       "<div>\n",
       "<style scoped>\n",
       "    .dataframe tbody tr th:only-of-type {\n",
       "        vertical-align: middle;\n",
       "    }\n",
       "\n",
       "    .dataframe tbody tr th {\n",
       "        vertical-align: top;\n",
       "    }\n",
       "\n",
       "    .dataframe thead th {\n",
       "        text-align: right;\n",
       "    }\n",
       "</style>\n",
       "<table border=\"1\" class=\"dataframe\">\n",
       "  <thead>\n",
       "    <tr style=\"text-align: right;\">\n",
       "      <th></th>\n",
       "      <th>Phone Name</th>\n",
       "      <th>Rating ?/5</th>\n",
       "      <th>Number of Ratings</th>\n",
       "      <th>RAM</th>\n",
       "      <th>ROM/Storage</th>\n",
       "      <th>Back/Rare Camera</th>\n",
       "      <th>Front Camera</th>\n",
       "      <th>Battery</th>\n",
       "      <th>Processor</th>\n",
       "      <th>Price in INR</th>\n",
       "      <th>Date of Scraping</th>\n",
       "      <th>Num-avaliações</th>\n",
       "      <th>Preco</th>\n",
       "    </tr>\n",
       "  </thead>\n",
       "  <tbody>\n",
       "    <tr>\n",
       "      <th>0</th>\n",
       "      <td>POCO C50 (Royal Blue, 32 GB)</td>\n",
       "      <td>4.2</td>\n",
       "      <td>33,561</td>\n",
       "      <td>2 GB RAM</td>\n",
       "      <td>32 GB ROM</td>\n",
       "      <td>8MP Dual Camera</td>\n",
       "      <td>5MP Front Camera</td>\n",
       "      <td>5000 mAh</td>\n",
       "      <td>Mediatek Helio A22 Processor, Upto 2.0 GHz Pro...</td>\n",
       "      <td>₹5,649</td>\n",
       "      <td>2023-06-17</td>\n",
       "      <td>33561</td>\n",
       "      <td>5649.0</td>\n",
       "    </tr>\n",
       "    <tr>\n",
       "      <th>1</th>\n",
       "      <td>POCO M4 5G (Cool Blue, 64 GB)</td>\n",
       "      <td>4.2</td>\n",
       "      <td>77,128</td>\n",
       "      <td>4 GB RAM</td>\n",
       "      <td>64 GB ROM</td>\n",
       "      <td>50MP + 2MP</td>\n",
       "      <td>8MP Front Camera</td>\n",
       "      <td>5000 mAh</td>\n",
       "      <td>Mediatek Dimensity 700 Processor</td>\n",
       "      <td>₹11,999</td>\n",
       "      <td>2023-06-17</td>\n",
       "      <td>77128</td>\n",
       "      <td>11999.0</td>\n",
       "    </tr>\n",
       "    <tr>\n",
       "      <th>2</th>\n",
       "      <td>POCO C51 (Royal Blue, 64 GB)</td>\n",
       "      <td>4.3</td>\n",
       "      <td>15,175</td>\n",
       "      <td>4 GB RAM</td>\n",
       "      <td>64 GB ROM</td>\n",
       "      <td>8MP Dual Rear Camera</td>\n",
       "      <td>5MP Front Camera</td>\n",
       "      <td>5000 mAh</td>\n",
       "      <td>Helio G36 Processor</td>\n",
       "      <td>₹6,999</td>\n",
       "      <td>2023-06-17</td>\n",
       "      <td>15175</td>\n",
       "      <td>6999.0</td>\n",
       "    </tr>\n",
       "  </tbody>\n",
       "</table>\n",
       "</div>"
      ],
      "text/plain": [
       "                      Phone Name  Rating ?/5 Number of Ratings       RAM  \\\n",
       "0   POCO C50 (Royal Blue, 32 GB)         4.2            33,561  2 GB RAM   \n",
       "1  POCO M4 5G (Cool Blue, 64 GB)         4.2            77,128  4 GB RAM   \n",
       "2   POCO C51 (Royal Blue, 64 GB)         4.3            15,175  4 GB RAM   \n",
       "\n",
       "  ROM/Storage      Back/Rare Camera      Front Camera   Battery  \\\n",
       "0   32 GB ROM       8MP Dual Camera  5MP Front Camera  5000 mAh   \n",
       "1   64 GB ROM            50MP + 2MP  8MP Front Camera  5000 mAh   \n",
       "2   64 GB ROM  8MP Dual Rear Camera  5MP Front Camera  5000 mAh   \n",
       "\n",
       "                                           Processor Price in INR  \\\n",
       "0  Mediatek Helio A22 Processor, Upto 2.0 GHz Pro...       ₹5,649   \n",
       "1                   Mediatek Dimensity 700 Processor      ₹11,999   \n",
       "2                                Helio G36 Processor       ₹6,999   \n",
       "\n",
       "  Date of Scraping  Num-avaliações    Preco  \n",
       "0       2023-06-17           33561   5649.0  \n",
       "1       2023-06-17           77128  11999.0  \n",
       "2       2023-06-17           15175   6999.0  "
      ]
     },
     "execution_count": 308,
     "metadata": {},
     "output_type": "execute_result"
    }
   ],
   "source": [
    "tabela.head(3)"
   ]
  },
  {
   "cell_type": "markdown",
   "id": "46a9cfee",
   "metadata": {},
   "source": [
    "## Tratamento de números vazios"
   ]
  },
  {
   "cell_type": "code",
   "execution_count": 309,
   "id": "c02043be",
   "metadata": {},
   "outputs": [
    {
     "data": {
      "text/plain": [
       "Phone Name             0\n",
       "Rating ?/5             0\n",
       "Number of Ratings      0\n",
       "RAM                    0\n",
       "ROM/Storage          174\n",
       "Back/Rare Camera       9\n",
       "Front Camera         401\n",
       "Battery               10\n",
       "Processor             55\n",
       "Price in INR           0\n",
       "Date of Scraping       0\n",
       "Num-avaliações         0\n",
       "Preco                  0\n",
       "dtype: int64"
      ]
     },
     "execution_count": 309,
     "metadata": {},
     "output_type": "execute_result"
    }
   ],
   "source": [
    "# verificar valores vazios\n",
    "tabela.isnull().sum()"
   ]
  },
  {
   "cell_type": "code",
   "execution_count": 310,
   "id": "9be84994",
   "metadata": {
    "scrolled": true
   },
   "outputs": [
    {
     "data": {
      "text/plain": [
       "'128 GB ROM'"
      ]
     },
     "execution_count": 310,
     "metadata": {},
     "output_type": "execute_result"
    }
   ],
   "source": [
    "tabela['ROM/Storage'].mode()[0]"
   ]
  },
  {
   "cell_type": "code",
   "execution_count": 311,
   "id": "e4f9c355",
   "metadata": {},
   "outputs": [],
   "source": [
    "tabela['ROM/Storage'].fillna(tabela['ROM/Storage'].mode()[0], inplace=True)"
   ]
  },
  {
   "cell_type": "code",
   "execution_count": 312,
   "id": "876271de",
   "metadata": {},
   "outputs": [
    {
     "data": {
      "text/plain": [
       "'16MP Front Camera'"
      ]
     },
     "execution_count": 312,
     "metadata": {},
     "output_type": "execute_result"
    }
   ],
   "source": [
    "tabela['Front Camera'].mode()[0]"
   ]
  },
  {
   "cell_type": "code",
   "execution_count": 313,
   "id": "270ebfcf",
   "metadata": {},
   "outputs": [],
   "source": [
    "tabela['Front Camera'].fillna(tabela['Front Camera'].mode()[0], inplace=True)"
   ]
  },
  {
   "cell_type": "code",
   "execution_count": 314,
   "id": "bcfcbd98",
   "metadata": {},
   "outputs": [
    {
     "data": {
      "text/plain": [
       "'1 Year Warranty for Phone and 6 Months Warranty for In-Box Accessories'"
      ]
     },
     "execution_count": 314,
     "metadata": {},
     "output_type": "execute_result"
    }
   ],
   "source": [
    "tabela['Processor'].mode()[0]"
   ]
  },
  {
   "cell_type": "code",
   "execution_count": 315,
   "id": "4d878e92",
   "metadata": {},
   "outputs": [],
   "source": [
    "tabela['Processor'].fillna(tabela['Processor'].mode()[0], inplace=True)"
   ]
  },
  {
   "cell_type": "code",
   "execution_count": 316,
   "id": "c9d6f04e",
   "metadata": {},
   "outputs": [],
   "source": [
    "tabela.dropna(inplace=True)"
   ]
  },
  {
   "cell_type": "code",
   "execution_count": 317,
   "id": "eee6bd25",
   "metadata": {
    "scrolled": true
   },
   "outputs": [
    {
     "data": {
      "text/plain": [
       "Phone Name           0\n",
       "Rating ?/5           0\n",
       "Number of Ratings    0\n",
       "RAM                  0\n",
       "ROM/Storage          0\n",
       "Back/Rare Camera     0\n",
       "Front Camera         0\n",
       "Battery              0\n",
       "Processor            0\n",
       "Price in INR         0\n",
       "Date of Scraping     0\n",
       "Num-avaliações       0\n",
       "Preco                0\n",
       "dtype: int64"
      ]
     },
     "execution_count": 317,
     "metadata": {},
     "output_type": "execute_result"
    }
   ],
   "source": [
    "tabela.isnull().sum()"
   ]
  },
  {
   "cell_type": "markdown",
   "id": "89b612a5",
   "metadata": {},
   "source": [
    "## Filtrando apenas colunas numéricas"
   ]
  },
  {
   "cell_type": "code",
   "execution_count": 318,
   "id": "6ed5f710",
   "metadata": {},
   "outputs": [
    {
     "data": {
      "text/plain": [
       "Index(['Phone Name', 'Number of Ratings', 'RAM', 'ROM/Storage',\n",
       "       'Back/Rare Camera', 'Front Camera', 'Battery', 'Processor',\n",
       "       'Price in INR', 'Date of Scraping'],\n",
       "      dtype='object')"
      ]
     },
     "execution_count": 318,
     "metadata": {},
     "output_type": "execute_result"
    }
   ],
   "source": [
    "tabela.columns[tabela.dtypes == 'object']"
   ]
  },
  {
   "cell_type": "code",
   "execution_count": 319,
   "id": "2613b0e2",
   "metadata": {},
   "outputs": [],
   "source": [
    "tabela2 = tabela.drop(tabela.columns[tabela.dtypes == 'object'], axis=1)"
   ]
  },
  {
   "cell_type": "code",
   "execution_count": 320,
   "id": "9e2e7712",
   "metadata": {},
   "outputs": [
    {
     "data": {
      "text/plain": [
       "(1826, 3)"
      ]
     },
     "execution_count": 320,
     "metadata": {},
     "output_type": "execute_result"
    }
   ],
   "source": [
    "tabela2.shape"
   ]
  },
  {
   "cell_type": "code",
   "execution_count": 321,
   "id": "5a8259b1",
   "metadata": {},
   "outputs": [
    {
     "data": {
      "text/html": [
       "<div>\n",
       "<style scoped>\n",
       "    .dataframe tbody tr th:only-of-type {\n",
       "        vertical-align: middle;\n",
       "    }\n",
       "\n",
       "    .dataframe tbody tr th {\n",
       "        vertical-align: top;\n",
       "    }\n",
       "\n",
       "    .dataframe thead th {\n",
       "        text-align: right;\n",
       "    }\n",
       "</style>\n",
       "<table border=\"1\" class=\"dataframe\">\n",
       "  <thead>\n",
       "    <tr style=\"text-align: right;\">\n",
       "      <th></th>\n",
       "      <th>Rating ?/5</th>\n",
       "      <th>Num-avaliações</th>\n",
       "      <th>Preco</th>\n",
       "    </tr>\n",
       "  </thead>\n",
       "  <tbody>\n",
       "    <tr>\n",
       "      <th>0</th>\n",
       "      <td>4.2</td>\n",
       "      <td>33561</td>\n",
       "      <td>5649.0</td>\n",
       "    </tr>\n",
       "    <tr>\n",
       "      <th>1</th>\n",
       "      <td>4.2</td>\n",
       "      <td>77128</td>\n",
       "      <td>11999.0</td>\n",
       "    </tr>\n",
       "  </tbody>\n",
       "</table>\n",
       "</div>"
      ],
      "text/plain": [
       "   Rating ?/5  Num-avaliações    Preco\n",
       "0         4.2           33561   5649.0\n",
       "1         4.2           77128  11999.0"
      ]
     },
     "execution_count": 321,
     "metadata": {},
     "output_type": "execute_result"
    }
   ],
   "source": [
    "tabela2.head(2)"
   ]
  },
  {
   "cell_type": "code",
   "execution_count": 322,
   "id": "ae3df726",
   "metadata": {},
   "outputs": [],
   "source": [
    "X = tabela2.drop('Preco', axis=1)\n",
    "y = tabela2['Preco']"
   ]
  },
  {
   "cell_type": "code",
   "execution_count": 323,
   "id": "c30a1bc9",
   "metadata": {},
   "outputs": [
    {
     "data": {
      "text/plain": [
       "((1826, 2), (1826,))"
      ]
     },
     "execution_count": 323,
     "metadata": {},
     "output_type": "execute_result"
    }
   ],
   "source": [
    "X.shape, y.shape"
   ]
  },
  {
   "cell_type": "markdown",
   "id": "f0245d23",
   "metadata": {},
   "source": [
    "## Separando dados de treino e teste"
   ]
  },
  {
   "cell_type": "code",
   "execution_count": 324,
   "id": "b6cb2123",
   "metadata": {},
   "outputs": [],
   "source": [
    "from sklearn.model_selection import train_test_split"
   ]
  },
  {
   "cell_type": "code",
   "execution_count": 325,
   "id": "7059543c",
   "metadata": {},
   "outputs": [],
   "source": [
    "X_train, X_test, y_train, y_test = train_test_split(X, y, test_size=0.30, random_state=42)"
   ]
  },
  {
   "cell_type": "code",
   "execution_count": 326,
   "id": "ba145a1e",
   "metadata": {},
   "outputs": [
    {
     "data": {
      "text/plain": [
       "((1278, 2), (1278,), (548, 2), (548,))"
      ]
     },
     "execution_count": 326,
     "metadata": {},
     "output_type": "execute_result"
    }
   ],
   "source": [
    "X_train.shape, y_train.shape, X_test.shape, y_test.shape"
   ]
  },
  {
   "cell_type": "markdown",
   "id": "8ef07c25",
   "metadata": {},
   "source": [
    "## Treinamento dos modelos\n",
    "\n",
    "### Regressão Linear\n",
    "\n",
    "[https://scikit-learn.org/stable/modules/linear_model.html#ordinary-least-squares](https://scikit-learn.org/stable/modules/linear_model.html#ordinary-least-squares)\n",
    "### Arvore de Decisão\n",
    "[https://scikit-learn.org/stable/modules/tree.html#regression](https://scikit-learn.org/stable/modules/tree.html#regression)\n",
    "### Knn\n",
    "[https://scikit-learn.org/stable/modules/generated/sklearn.neighbors.KNeighborsRegressor.html#sklearn.neighbors.KNeighborsRegressor](https://scikit-learn.org/stable/modules/generated/sklearn.neighbors.KNeighborsRegressor.html#sklearn.neighbors.KNeighborsRegressor)"
   ]
  },
  {
   "cell_type": "markdown",
   "id": "1b052635",
   "metadata": {},
   "source": [
    "## Regressão Linear"
   ]
  },
  {
   "cell_type": "code",
   "execution_count": 327,
   "id": "94e13422",
   "metadata": {},
   "outputs": [],
   "source": [
    "# modelo regressão linear\n",
    "from sklearn import linear_model"
   ]
  },
  {
   "cell_type": "code",
   "execution_count": 328,
   "id": "8bb9f0c1",
   "metadata": {
    "scrolled": true
   },
   "outputs": [
    {
     "data": {
      "text/plain": [
       "LinearRegression()"
      ]
     },
     "execution_count": 328,
     "metadata": {},
     "output_type": "execute_result"
    }
   ],
   "source": [
    "# trenamento do modelo\n",
    "reg_lin = linear_model.LinearRegression()\n",
    "reg_lin.fit(X_train, y_train)"
   ]
  },
  {
   "cell_type": "code",
   "execution_count": 329,
   "id": "5e2ccd3d",
   "metadata": {},
   "outputs": [
    {
     "data": {
      "text/plain": [
       "array([26299.39674618, 20233.83681175, 24861.60393778, ...,\n",
       "       27292.55809784, 26377.9503078 , 24472.32118798])"
      ]
     },
     "execution_count": 329,
     "metadata": {},
     "output_type": "execute_result"
    }
   ],
   "source": [
    "previsao_train = reg_lin.predict(X_train)\n",
    "previsao_train"
   ]
  },
  {
   "cell_type": "code",
   "execution_count": 330,
   "id": "8dae7fd4",
   "metadata": {},
   "outputs": [],
   "source": [
    "previsao_teste = reg_lin.predict(X_test)"
   ]
  },
  {
   "cell_type": "code",
   "execution_count": 331,
   "id": "6ff18f7c",
   "metadata": {
    "scrolled": true
   },
   "outputs": [
    {
     "data": {
      "text/plain": [
       "(0.056637732932829477, 0.013306216212181088)"
      ]
     },
     "execution_count": 331,
     "metadata": {},
     "output_type": "execute_result"
    }
   ],
   "source": [
    "reg_lin.score(X_train, y_train), reg_lin.score(X_test, y_test)"
   ]
  },
  {
   "cell_type": "code",
   "execution_count": 332,
   "id": "f0ccf47d",
   "metadata": {},
   "outputs": [],
   "source": [
    "from sklearn.metrics import mean_absolute_error, mean_squared_error"
   ]
  },
  {
   "cell_type": "code",
   "execution_count": 333,
   "id": "0900c285",
   "metadata": {},
   "outputs": [
    {
     "data": {
      "text/plain": [
       "24594.192703937693"
      ]
     },
     "execution_count": 333,
     "metadata": {},
     "output_type": "execute_result"
    }
   ],
   "source": [
    "np.sqrt(mean_squared_error(y_test, previsao_teste))"
   ]
  },
  {
   "cell_type": "markdown",
   "id": "97ce4acc",
   "metadata": {},
   "source": [
    "## Arvore de Decisão"
   ]
  },
  {
   "cell_type": "code",
   "execution_count": 334,
   "id": "1731dddf",
   "metadata": {},
   "outputs": [],
   "source": [
    "from sklearn import tree"
   ]
  },
  {
   "cell_type": "code",
   "execution_count": 335,
   "id": "ac7bdc13",
   "metadata": {},
   "outputs": [],
   "source": [
    "clf = tree.DecisionTreeRegressor(max_depth=9)\n",
    "clf = clf.fit(X_train, y_train)"
   ]
  },
  {
   "cell_type": "code",
   "execution_count": 336,
   "id": "1b325cd8",
   "metadata": {},
   "outputs": [],
   "source": [
    "previsoes_treino = clf.predict(X_train)"
   ]
  },
  {
   "cell_type": "code",
   "execution_count": 337,
   "id": "0ea68c3d",
   "metadata": {},
   "outputs": [],
   "source": [
    "previsoes_teste = clf.predict(X_test)"
   ]
  },
  {
   "cell_type": "code",
   "execution_count": 338,
   "id": "3c2fb8f7",
   "metadata": {
    "scrolled": true
   },
   "outputs": [
    {
     "data": {
      "text/plain": [
       "(0.8872049462588838, 0.777805948780187)"
      ]
     },
     "execution_count": 338,
     "metadata": {},
     "output_type": "execute_result"
    }
   ],
   "source": [
    "clf.score(X_train, y_train), clf.score(X_test, y_test)"
   ]
  },
  {
   "cell_type": "code",
   "execution_count": 339,
   "id": "7bf6c671",
   "metadata": {},
   "outputs": [
    {
     "data": {
      "text/plain": [
       "11670.98710475225"
      ]
     },
     "execution_count": 339,
     "metadata": {},
     "output_type": "execute_result"
    }
   ],
   "source": [
    "np.sqrt(mean_squared_error(y_test, previsoes_teste))"
   ]
  },
  {
   "cell_type": "markdown",
   "id": "fa833949",
   "metadata": {},
   "source": [
    "## KNN"
   ]
  },
  {
   "cell_type": "code",
   "execution_count": 340,
   "id": "63b371c8",
   "metadata": {},
   "outputs": [],
   "source": [
    "from sklearn.neighbors import KNeighborsRegressor"
   ]
  },
  {
   "cell_type": "code",
   "execution_count": 341,
   "id": "6e0f2c6f",
   "metadata": {},
   "outputs": [
    {
     "data": {
      "text/plain": [
       "KNeighborsRegressor(n_neighbors=2)"
      ]
     },
     "execution_count": 341,
     "metadata": {},
     "output_type": "execute_result"
    }
   ],
   "source": [
    "knn_reg = KNeighborsRegressor(n_neighbors=2)\n",
    "knn_reg.fit(X, y)"
   ]
  },
  {
   "cell_type": "code",
   "execution_count": 342,
   "id": "ee82cae7",
   "metadata": {},
   "outputs": [],
   "source": [
    "previsoes_treino = knn_reg.predict(X_train)"
   ]
  },
  {
   "cell_type": "code",
   "execution_count": 343,
   "id": "4e6f49cf",
   "metadata": {},
   "outputs": [],
   "source": [
    "previsoes_teste = knn_reg.predict(X_test)"
   ]
  },
  {
   "cell_type": "code",
   "execution_count": 344,
   "id": "c8159296",
   "metadata": {},
   "outputs": [
    {
     "data": {
      "text/plain": [
       "(0.9195163446572718, 0.9414286564006864)"
      ]
     },
     "execution_count": 344,
     "metadata": {},
     "output_type": "execute_result"
    }
   ],
   "source": [
    "knn_reg.score(X_train, y_train), knn_reg.score(X_test, y_test)"
   ]
  },
  {
   "cell_type": "code",
   "execution_count": 345,
   "id": "b43875c4",
   "metadata": {},
   "outputs": [
    {
     "data": {
      "text/plain": [
       "5992.167831906073"
      ]
     },
     "execution_count": 345,
     "metadata": {},
     "output_type": "execute_result"
    }
   ],
   "source": [
    "np.sqrt(mean_squared_error(y_test, previsoes_teste))"
   ]
  },
  {
   "cell_type": "markdown",
   "id": "cee0c97d",
   "metadata": {},
   "source": [
    "## Teste de outras colunas"
   ]
  },
  {
   "cell_type": "code",
   "execution_count": 346,
   "id": "63fd071e",
   "metadata": {
    "scrolled": true
   },
   "outputs": [
    {
     "data": {
      "text/html": [
       "<div>\n",
       "<style scoped>\n",
       "    .dataframe tbody tr th:only-of-type {\n",
       "        vertical-align: middle;\n",
       "    }\n",
       "\n",
       "    .dataframe tbody tr th {\n",
       "        vertical-align: top;\n",
       "    }\n",
       "\n",
       "    .dataframe thead th {\n",
       "        text-align: right;\n",
       "    }\n",
       "</style>\n",
       "<table border=\"1\" class=\"dataframe\">\n",
       "  <thead>\n",
       "    <tr style=\"text-align: right;\">\n",
       "      <th></th>\n",
       "      <th>Phone Name</th>\n",
       "      <th>Rating ?/5</th>\n",
       "      <th>Number of Ratings</th>\n",
       "      <th>RAM</th>\n",
       "      <th>ROM/Storage</th>\n",
       "      <th>Back/Rare Camera</th>\n",
       "      <th>Front Camera</th>\n",
       "      <th>Battery</th>\n",
       "      <th>Processor</th>\n",
       "      <th>Price in INR</th>\n",
       "      <th>Date of Scraping</th>\n",
       "      <th>Num-avaliações</th>\n",
       "      <th>Preco</th>\n",
       "    </tr>\n",
       "  </thead>\n",
       "  <tbody>\n",
       "    <tr>\n",
       "      <th>0</th>\n",
       "      <td>POCO C50 (Royal Blue, 32 GB)</td>\n",
       "      <td>4.2</td>\n",
       "      <td>33,561</td>\n",
       "      <td>2 GB RAM</td>\n",
       "      <td>32 GB ROM</td>\n",
       "      <td>8MP Dual Camera</td>\n",
       "      <td>5MP Front Camera</td>\n",
       "      <td>5000 mAh</td>\n",
       "      <td>Mediatek Helio A22 Processor, Upto 2.0 GHz Pro...</td>\n",
       "      <td>₹5,649</td>\n",
       "      <td>2023-06-17</td>\n",
       "      <td>33561</td>\n",
       "      <td>5649.0</td>\n",
       "    </tr>\n",
       "    <tr>\n",
       "      <th>1</th>\n",
       "      <td>POCO M4 5G (Cool Blue, 64 GB)</td>\n",
       "      <td>4.2</td>\n",
       "      <td>77,128</td>\n",
       "      <td>4 GB RAM</td>\n",
       "      <td>64 GB ROM</td>\n",
       "      <td>50MP + 2MP</td>\n",
       "      <td>8MP Front Camera</td>\n",
       "      <td>5000 mAh</td>\n",
       "      <td>Mediatek Dimensity 700 Processor</td>\n",
       "      <td>₹11,999</td>\n",
       "      <td>2023-06-17</td>\n",
       "      <td>77128</td>\n",
       "      <td>11999.0</td>\n",
       "    </tr>\n",
       "  </tbody>\n",
       "</table>\n",
       "</div>"
      ],
      "text/plain": [
       "                      Phone Name  Rating ?/5 Number of Ratings       RAM  \\\n",
       "0   POCO C50 (Royal Blue, 32 GB)         4.2            33,561  2 GB RAM   \n",
       "1  POCO M4 5G (Cool Blue, 64 GB)         4.2            77,128  4 GB RAM   \n",
       "\n",
       "  ROM/Storage Back/Rare Camera      Front Camera   Battery  \\\n",
       "0   32 GB ROM  8MP Dual Camera  5MP Front Camera  5000 mAh   \n",
       "1   64 GB ROM       50MP + 2MP  8MP Front Camera  5000 mAh   \n",
       "\n",
       "                                           Processor Price in INR  \\\n",
       "0  Mediatek Helio A22 Processor, Upto 2.0 GHz Pro...       ₹5,649   \n",
       "1                   Mediatek Dimensity 700 Processor      ₹11,999   \n",
       "\n",
       "  Date of Scraping  Num-avaliações    Preco  \n",
       "0       2023-06-17           33561   5649.0  \n",
       "1       2023-06-17           77128  11999.0  "
      ]
     },
     "execution_count": 346,
     "metadata": {},
     "output_type": "execute_result"
    }
   ],
   "source": [
    "tabela.head(2)"
   ]
  },
  {
   "cell_type": "code",
   "execution_count": 347,
   "id": "8419ee07",
   "metadata": {},
   "outputs": [],
   "source": [
    "tabela3 = tabela.drop(['Phone Name', 'Number of Ratings', 'Price in INR', 'Date of Scraping'], axis=1)"
   ]
  },
  {
   "cell_type": "code",
   "execution_count": 348,
   "id": "cfc368c7",
   "metadata": {},
   "outputs": [
    {
     "data": {
      "text/html": [
       "<div>\n",
       "<style scoped>\n",
       "    .dataframe tbody tr th:only-of-type {\n",
       "        vertical-align: middle;\n",
       "    }\n",
       "\n",
       "    .dataframe tbody tr th {\n",
       "        vertical-align: top;\n",
       "    }\n",
       "\n",
       "    .dataframe thead th {\n",
       "        text-align: right;\n",
       "    }\n",
       "</style>\n",
       "<table border=\"1\" class=\"dataframe\">\n",
       "  <thead>\n",
       "    <tr style=\"text-align: right;\">\n",
       "      <th></th>\n",
       "      <th>Rating ?/5</th>\n",
       "      <th>RAM</th>\n",
       "      <th>ROM/Storage</th>\n",
       "      <th>Back/Rare Camera</th>\n",
       "      <th>Front Camera</th>\n",
       "      <th>Battery</th>\n",
       "      <th>Processor</th>\n",
       "      <th>Num-avaliações</th>\n",
       "      <th>Preco</th>\n",
       "    </tr>\n",
       "  </thead>\n",
       "  <tbody>\n",
       "    <tr>\n",
       "      <th>0</th>\n",
       "      <td>4.2</td>\n",
       "      <td>2 GB RAM</td>\n",
       "      <td>32 GB ROM</td>\n",
       "      <td>8MP Dual Camera</td>\n",
       "      <td>5MP Front Camera</td>\n",
       "      <td>5000 mAh</td>\n",
       "      <td>Mediatek Helio A22 Processor, Upto 2.0 GHz Pro...</td>\n",
       "      <td>33561</td>\n",
       "      <td>5649.0</td>\n",
       "    </tr>\n",
       "    <tr>\n",
       "      <th>1</th>\n",
       "      <td>4.2</td>\n",
       "      <td>4 GB RAM</td>\n",
       "      <td>64 GB ROM</td>\n",
       "      <td>50MP + 2MP</td>\n",
       "      <td>8MP Front Camera</td>\n",
       "      <td>5000 mAh</td>\n",
       "      <td>Mediatek Dimensity 700 Processor</td>\n",
       "      <td>77128</td>\n",
       "      <td>11999.0</td>\n",
       "    </tr>\n",
       "  </tbody>\n",
       "</table>\n",
       "</div>"
      ],
      "text/plain": [
       "   Rating ?/5       RAM ROM/Storage Back/Rare Camera      Front Camera  \\\n",
       "0         4.2  2 GB RAM   32 GB ROM  8MP Dual Camera  5MP Front Camera   \n",
       "1         4.2  4 GB RAM   64 GB ROM       50MP + 2MP  8MP Front Camera   \n",
       "\n",
       "    Battery                                          Processor  \\\n",
       "0  5000 mAh  Mediatek Helio A22 Processor, Upto 2.0 GHz Pro...   \n",
       "1  5000 mAh                   Mediatek Dimensity 700 Processor   \n",
       "\n",
       "   Num-avaliações    Preco  \n",
       "0           33561   5649.0  \n",
       "1           77128  11999.0  "
      ]
     },
     "execution_count": 348,
     "metadata": {},
     "output_type": "execute_result"
    }
   ],
   "source": [
    "tabela3.head(2)"
   ]
  },
  {
   "cell_type": "code",
   "execution_count": 349,
   "id": "25aa8c78",
   "metadata": {},
   "outputs": [
    {
     "name": "stdout",
     "output_type": "stream",
     "text": [
      "<class 'pandas.core.frame.DataFrame'>\n",
      "Int64Index: 1826 entries, 0 to 1835\n",
      "Data columns (total 9 columns):\n",
      " #   Column            Non-Null Count  Dtype  \n",
      "---  ------            --------------  -----  \n",
      " 0   Rating ?/5        1826 non-null   float64\n",
      " 1   RAM               1826 non-null   object \n",
      " 2   ROM/Storage       1826 non-null   object \n",
      " 3   Back/Rare Camera  1826 non-null   object \n",
      " 4   Front Camera      1826 non-null   object \n",
      " 5   Battery           1826 non-null   object \n",
      " 6   Processor         1826 non-null   object \n",
      " 7   Num-avaliações    1826 non-null   int64  \n",
      " 8   Preco             1826 non-null   float64\n",
      "dtypes: float64(2), int64(1), object(6)\n",
      "memory usage: 142.7+ KB\n"
     ]
    }
   ],
   "source": [
    "tabela3.info()"
   ]
  },
  {
   "cell_type": "markdown",
   "id": "de23fc91",
   "metadata": {},
   "source": [
    "## Dimensionar valores"
   ]
  },
  {
   "cell_type": "code",
   "execution_count": 350,
   "id": "8f132545",
   "metadata": {
    "scrolled": false
   },
   "outputs": [
    {
     "data": {
      "text/plain": [
       "8 GB RAM    438\n",
       "4 GB RAM    383\n",
       "6 GB RAM    322\n",
       "Name: RAM, dtype: int64"
      ]
     },
     "execution_count": 350,
     "metadata": {},
     "output_type": "execute_result"
    }
   ],
   "source": [
    "tabela3['RAM'].value_counts().head(3)"
   ]
  },
  {
   "cell_type": "code",
   "execution_count": 351,
   "id": "3aa6a844",
   "metadata": {},
   "outputs": [],
   "source": [
    "lis_ram = ['8 GB RAM', '4 GB RAM', '6 GB RAM']"
   ]
  },
  {
   "cell_type": "code",
   "execution_count": 352,
   "id": "0302512a",
   "metadata": {},
   "outputs": [],
   "source": [
    "tabela3['RAM'] = tabela3['RAM'].apply(lambda x: 'outros' if x not in lis_ram else x)"
   ]
  },
  {
   "cell_type": "code",
   "execution_count": 353,
   "id": "52435212",
   "metadata": {
    "scrolled": true
   },
   "outputs": [
    {
     "data": {
      "text/plain": [
       "outros      683\n",
       "8 GB RAM    438\n",
       "4 GB RAM    383\n",
       "6 GB RAM    322\n",
       "Name: RAM, dtype: int64"
      ]
     },
     "execution_count": 353,
     "metadata": {},
     "output_type": "execute_result"
    }
   ],
   "source": [
    "tabela3['RAM'].value_counts()"
   ]
  },
  {
   "cell_type": "code",
   "execution_count": 354,
   "id": "8a78a690",
   "metadata": {},
   "outputs": [
    {
     "data": {
      "text/plain": [
       "128 GB ROM    853\n",
       "64 GB ROM     401\n",
       "32 GB ROM     210\n",
       "Name: ROM/Storage, dtype: int64"
      ]
     },
     "execution_count": 354,
     "metadata": {},
     "output_type": "execute_result"
    }
   ],
   "source": [
    "tabela3['ROM/Storage'].value_counts().head(3)"
   ]
  },
  {
   "cell_type": "code",
   "execution_count": 355,
   "id": "663d2224",
   "metadata": {},
   "outputs": [],
   "source": [
    "lis_rom = ['128 GB ROM', '64 GB ROM', '32 GB ROM']"
   ]
  },
  {
   "cell_type": "code",
   "execution_count": 356,
   "id": "b589978b",
   "metadata": {},
   "outputs": [],
   "source": [
    "tabela3['ROM/Storage'] = tabela3['ROM/Storage'].apply(lambda x: 'outros' if x not in lis_rom else x)"
   ]
  },
  {
   "cell_type": "code",
   "execution_count": 357,
   "id": "29386f16",
   "metadata": {},
   "outputs": [
    {
     "data": {
      "text/plain": [
       "128 GB ROM    853\n",
       "64 GB ROM     401\n",
       "outros        362\n",
       "32 GB ROM     210\n",
       "Name: ROM/Storage, dtype: int64"
      ]
     },
     "execution_count": 357,
     "metadata": {},
     "output_type": "execute_result"
    }
   ],
   "source": [
    "tabela3['ROM/Storage'].value_counts()"
   ]
  },
  {
   "cell_type": "code",
   "execution_count": 358,
   "id": "8c6cc684",
   "metadata": {},
   "outputs": [
    {
     "data": {
      "text/plain": [
       "50MP Rear Camera    101\n",
       "13MP Rear Camera     93\n",
       "12MP + 12MP          81\n",
       "Name: Back/Rare Camera, dtype: int64"
      ]
     },
     "execution_count": 358,
     "metadata": {},
     "output_type": "execute_result"
    }
   ],
   "source": [
    "tabela3['Back/Rare Camera'].value_counts().head(3)"
   ]
  },
  {
   "cell_type": "code",
   "execution_count": 359,
   "id": "4549e3bc",
   "metadata": {},
   "outputs": [],
   "source": [
    "lis_atras = ['50MP Rear Camera', '13MP Rear Camera', '12MP + 12MP']"
   ]
  },
  {
   "cell_type": "code",
   "execution_count": 360,
   "id": "edccc52c",
   "metadata": {},
   "outputs": [],
   "source": [
    "tabela3['Back/Rare Camera'] = tabela3['Back/Rare Camera'].apply(lambda x: 'outros' if x not in lis_atras else x)"
   ]
  },
  {
   "cell_type": "code",
   "execution_count": 361,
   "id": "536bd448",
   "metadata": {},
   "outputs": [
    {
     "data": {
      "text/plain": [
       "outros              1551\n",
       "50MP Rear Camera     101\n",
       "13MP Rear Camera      93\n",
       "12MP + 12MP           81\n",
       "Name: Back/Rare Camera, dtype: int64"
      ]
     },
     "execution_count": 361,
     "metadata": {},
     "output_type": "execute_result"
    }
   ],
   "source": [
    "tabela3['Back/Rare Camera'].value_counts()"
   ]
  },
  {
   "cell_type": "code",
   "execution_count": 362,
   "id": "9371e2d3",
   "metadata": {},
   "outputs": [
    {
     "data": {
      "text/plain": [
       "16MP Front Camera    723\n",
       "8MP Front Camera     307\n",
       "5MP Front Camera     273\n",
       "Name: Front Camera, dtype: int64"
      ]
     },
     "execution_count": 362,
     "metadata": {},
     "output_type": "execute_result"
    }
   ],
   "source": [
    "tabela3['Front Camera'].value_counts().head(3)"
   ]
  },
  {
   "cell_type": "code",
   "execution_count": 363,
   "id": "09800598",
   "metadata": {},
   "outputs": [],
   "source": [
    "lis_frontal = ['16MP Front Camera', '8MP Front Camera', '5MP Front Camera']"
   ]
  },
  {
   "cell_type": "code",
   "execution_count": 364,
   "id": "14c036a9",
   "metadata": {},
   "outputs": [],
   "source": [
    "tabela3['Front Camera'] = tabela3['Front Camera'].apply(lambda x: 'outros' if x not in lis_frontal else x)"
   ]
  },
  {
   "cell_type": "code",
   "execution_count": 365,
   "id": "94aafb9a",
   "metadata": {},
   "outputs": [
    {
     "data": {
      "text/plain": [
       "16MP Front Camera    723\n",
       "outros               523\n",
       "8MP Front Camera     307\n",
       "5MP Front Camera     273\n",
       "Name: Front Camera, dtype: int64"
      ]
     },
     "execution_count": 365,
     "metadata": {},
     "output_type": "execute_result"
    }
   ],
   "source": [
    "tabela3['Front Camera'].value_counts()"
   ]
  },
  {
   "cell_type": "code",
   "execution_count": 366,
   "id": "56b6cedf",
   "metadata": {},
   "outputs": [
    {
     "data": {
      "text/plain": [
       "5000 mAh    786\n",
       "4500 mAh    148\n",
       "6000 mAh    113\n",
       "Name: Battery, dtype: int64"
      ]
     },
     "execution_count": 366,
     "metadata": {},
     "output_type": "execute_result"
    }
   ],
   "source": [
    "tabela3['Battery'].value_counts().head(3)"
   ]
  },
  {
   "cell_type": "code",
   "execution_count": 367,
   "id": "116e5d25",
   "metadata": {},
   "outputs": [],
   "source": [
    "lis_bateria = ['5000 mAh', '4500 mAh', '6000 mAh']"
   ]
  },
  {
   "cell_type": "code",
   "execution_count": 368,
   "id": "b5e45c7e",
   "metadata": {},
   "outputs": [],
   "source": [
    "tabela3['Battery'] = tabela3['Battery'].apply(lambda x: 'outros' if x not in lis_bateria else x)"
   ]
  },
  {
   "cell_type": "code",
   "execution_count": 369,
   "id": "f3d93b19",
   "metadata": {},
   "outputs": [
    {
     "data": {
      "text/plain": [
       "5000 mAh    786\n",
       "outros      779\n",
       "4500 mAh    148\n",
       "6000 mAh    113\n",
       "Name: Battery, dtype: int64"
      ]
     },
     "execution_count": 369,
     "metadata": {},
     "output_type": "execute_result"
    }
   ],
   "source": [
    "tabela3['Battery'].value_counts()"
   ]
  },
  {
   "cell_type": "code",
   "execution_count": 370,
   "id": "e3c0a032",
   "metadata": {},
   "outputs": [
    {
     "data": {
      "text/plain": [
       "1 Year Warranty for Phone and 6 Months Warranty for In-Box Accessories    92\n",
       "Qualcomm Snapdragon 680 Processor                                         45\n",
       "Brand Warranty for 1 Year                                                 40\n",
       "Name: Processor, dtype: int64"
      ]
     },
     "execution_count": 370,
     "metadata": {},
     "output_type": "execute_result"
    }
   ],
   "source": [
    "tabela3['Processor'].value_counts().head(3)"
   ]
  },
  {
   "cell_type": "code",
   "execution_count": 371,
   "id": "2477145d",
   "metadata": {},
   "outputs": [],
   "source": [
    "lis_processador = [\n",
    "    '1 Year Warranty for Phone and 6 Months Warranty for In-Box Accessories',\n",
    "    'Qualcomm Snapdragon 680 Processor',\n",
    "    'Brand Warranty for 1 Year'\n",
    "]"
   ]
  },
  {
   "cell_type": "code",
   "execution_count": 372,
   "id": "2eaf2bae",
   "metadata": {},
   "outputs": [],
   "source": [
    "tabela3['Processor'] = tabela3['Processor'].apply(lambda x: 'outros' if x not in lis_processador else x)"
   ]
  },
  {
   "cell_type": "code",
   "execution_count": 373,
   "id": "b0300613",
   "metadata": {},
   "outputs": [
    {
     "data": {
      "text/plain": [
       "outros                                                                    1649\n",
       "1 Year Warranty for Phone and 6 Months Warranty for In-Box Accessories      92\n",
       "Qualcomm Snapdragon 680 Processor                                           45\n",
       "Brand Warranty for 1 Year                                                   40\n",
       "Name: Processor, dtype: int64"
      ]
     },
     "execution_count": 373,
     "metadata": {},
     "output_type": "execute_result"
    }
   ],
   "source": [
    "tabela3['Processor'].value_counts()"
   ]
  },
  {
   "cell_type": "code",
   "execution_count": 374,
   "id": "77b0a5ff",
   "metadata": {},
   "outputs": [
    {
     "data": {
      "text/html": [
       "<div>\n",
       "<style scoped>\n",
       "    .dataframe tbody tr th:only-of-type {\n",
       "        vertical-align: middle;\n",
       "    }\n",
       "\n",
       "    .dataframe tbody tr th {\n",
       "        vertical-align: top;\n",
       "    }\n",
       "\n",
       "    .dataframe thead th {\n",
       "        text-align: right;\n",
       "    }\n",
       "</style>\n",
       "<table border=\"1\" class=\"dataframe\">\n",
       "  <thead>\n",
       "    <tr style=\"text-align: right;\">\n",
       "      <th></th>\n",
       "      <th>Rating ?/5</th>\n",
       "      <th>RAM</th>\n",
       "      <th>ROM/Storage</th>\n",
       "      <th>Back/Rare Camera</th>\n",
       "      <th>Front Camera</th>\n",
       "      <th>Battery</th>\n",
       "      <th>Processor</th>\n",
       "      <th>Num-avaliações</th>\n",
       "      <th>Preco</th>\n",
       "    </tr>\n",
       "  </thead>\n",
       "  <tbody>\n",
       "    <tr>\n",
       "      <th>0</th>\n",
       "      <td>4.2</td>\n",
       "      <td>outros</td>\n",
       "      <td>32 GB ROM</td>\n",
       "      <td>outros</td>\n",
       "      <td>5MP Front Camera</td>\n",
       "      <td>5000 mAh</td>\n",
       "      <td>outros</td>\n",
       "      <td>33561</td>\n",
       "      <td>5649.0</td>\n",
       "    </tr>\n",
       "    <tr>\n",
       "      <th>1</th>\n",
       "      <td>4.2</td>\n",
       "      <td>4 GB RAM</td>\n",
       "      <td>64 GB ROM</td>\n",
       "      <td>outros</td>\n",
       "      <td>8MP Front Camera</td>\n",
       "      <td>5000 mAh</td>\n",
       "      <td>outros</td>\n",
       "      <td>77128</td>\n",
       "      <td>11999.0</td>\n",
       "    </tr>\n",
       "  </tbody>\n",
       "</table>\n",
       "</div>"
      ],
      "text/plain": [
       "   Rating ?/5       RAM ROM/Storage Back/Rare Camera      Front Camera  \\\n",
       "0         4.2    outros   32 GB ROM           outros  5MP Front Camera   \n",
       "1         4.2  4 GB RAM   64 GB ROM           outros  8MP Front Camera   \n",
       "\n",
       "    Battery Processor  Num-avaliações    Preco  \n",
       "0  5000 mAh    outros           33561   5649.0  \n",
       "1  5000 mAh    outros           77128  11999.0  "
      ]
     },
     "execution_count": 374,
     "metadata": {},
     "output_type": "execute_result"
    }
   ],
   "source": [
    "tabela3.head(2)"
   ]
  },
  {
   "cell_type": "markdown",
   "id": "ae2ca6e5",
   "metadata": {},
   "source": [
    "## Transformando dados em numéricos com labelecoder"
   ]
  },
  {
   "cell_type": "code",
   "execution_count": 375,
   "id": "5ef3e471",
   "metadata": {},
   "outputs": [],
   "source": [
    "from sklearn import preprocessing"
   ]
  },
  {
   "cell_type": "code",
   "execution_count": 376,
   "id": "848a7c63",
   "metadata": {},
   "outputs": [],
   "source": [
    "le = preprocessing.LabelEncoder()"
   ]
  },
  {
   "cell_type": "code",
   "execution_count": 383,
   "id": "fccf9187",
   "metadata": {},
   "outputs": [],
   "source": [
    "tabela3['RAM'] = le.fit_transform(tabela3.RAM)\n",
    "tabela3['ROM/Storage'] = le.fit_transform(tabela3['ROM/Storage'])\n",
    "tabela3['Back/Rare Camera'] = le.fit_transform(tabela3['Back/Rare Camera'])\n",
    "tabela3['Front Camera'] = le.fit_transform(tabela3['Front Camera'])\n",
    "tabela3['Battery'] = le.fit_transform(tabela3['Battery'])\n",
    "tabela3['Processor'] = le.fit_transform(tabela3['Processor'])"
   ]
  },
  {
   "cell_type": "code",
   "execution_count": 384,
   "id": "e6194a8b",
   "metadata": {},
   "outputs": [
    {
     "data": {
      "text/html": [
       "<div>\n",
       "<style scoped>\n",
       "    .dataframe tbody tr th:only-of-type {\n",
       "        vertical-align: middle;\n",
       "    }\n",
       "\n",
       "    .dataframe tbody tr th {\n",
       "        vertical-align: top;\n",
       "    }\n",
       "\n",
       "    .dataframe thead th {\n",
       "        text-align: right;\n",
       "    }\n",
       "</style>\n",
       "<table border=\"1\" class=\"dataframe\">\n",
       "  <thead>\n",
       "    <tr style=\"text-align: right;\">\n",
       "      <th></th>\n",
       "      <th>Rating ?/5</th>\n",
       "      <th>RAM</th>\n",
       "      <th>ROM/Storage</th>\n",
       "      <th>Back/Rare Camera</th>\n",
       "      <th>Front Camera</th>\n",
       "      <th>Battery</th>\n",
       "      <th>Processor</th>\n",
       "      <th>Num-avaliações</th>\n",
       "      <th>Preco</th>\n",
       "    </tr>\n",
       "  </thead>\n",
       "  <tbody>\n",
       "    <tr>\n",
       "      <th>0</th>\n",
       "      <td>4.2</td>\n",
       "      <td>3</td>\n",
       "      <td>1</td>\n",
       "      <td>3</td>\n",
       "      <td>1</td>\n",
       "      <td>1</td>\n",
       "      <td>3</td>\n",
       "      <td>33561</td>\n",
       "      <td>5649.0</td>\n",
       "    </tr>\n",
       "    <tr>\n",
       "      <th>1</th>\n",
       "      <td>4.2</td>\n",
       "      <td>0</td>\n",
       "      <td>2</td>\n",
       "      <td>3</td>\n",
       "      <td>2</td>\n",
       "      <td>1</td>\n",
       "      <td>3</td>\n",
       "      <td>77128</td>\n",
       "      <td>11999.0</td>\n",
       "    </tr>\n",
       "    <tr>\n",
       "      <th>2</th>\n",
       "      <td>4.3</td>\n",
       "      <td>0</td>\n",
       "      <td>2</td>\n",
       "      <td>3</td>\n",
       "      <td>1</td>\n",
       "      <td>1</td>\n",
       "      <td>3</td>\n",
       "      <td>15175</td>\n",
       "      <td>6999.0</td>\n",
       "    </tr>\n",
       "    <tr>\n",
       "      <th>3</th>\n",
       "      <td>4.2</td>\n",
       "      <td>0</td>\n",
       "      <td>2</td>\n",
       "      <td>3</td>\n",
       "      <td>1</td>\n",
       "      <td>1</td>\n",
       "      <td>3</td>\n",
       "      <td>22621</td>\n",
       "      <td>7749.0</td>\n",
       "    </tr>\n",
       "    <tr>\n",
       "      <th>4</th>\n",
       "      <td>4.3</td>\n",
       "      <td>0</td>\n",
       "      <td>2</td>\n",
       "      <td>3</td>\n",
       "      <td>1</td>\n",
       "      <td>1</td>\n",
       "      <td>3</td>\n",
       "      <td>15175</td>\n",
       "      <td>6999.0</td>\n",
       "    </tr>\n",
       "    <tr>\n",
       "      <th>...</th>\n",
       "      <td>...</td>\n",
       "      <td>...</td>\n",
       "      <td>...</td>\n",
       "      <td>...</td>\n",
       "      <td>...</td>\n",
       "      <td>...</td>\n",
       "      <td>...</td>\n",
       "      <td>...</td>\n",
       "      <td>...</td>\n",
       "    </tr>\n",
       "    <tr>\n",
       "      <th>1831</th>\n",
       "      <td>4.3</td>\n",
       "      <td>0</td>\n",
       "      <td>2</td>\n",
       "      <td>3</td>\n",
       "      <td>0</td>\n",
       "      <td>1</td>\n",
       "      <td>3</td>\n",
       "      <td>25582</td>\n",
       "      <td>14999.0</td>\n",
       "    </tr>\n",
       "    <tr>\n",
       "      <th>1832</th>\n",
       "      <td>4.3</td>\n",
       "      <td>0</td>\n",
       "      <td>2</td>\n",
       "      <td>3</td>\n",
       "      <td>0</td>\n",
       "      <td>1</td>\n",
       "      <td>3</td>\n",
       "      <td>25582</td>\n",
       "      <td>14999.0</td>\n",
       "    </tr>\n",
       "    <tr>\n",
       "      <th>1833</th>\n",
       "      <td>4.3</td>\n",
       "      <td>0</td>\n",
       "      <td>2</td>\n",
       "      <td>3</td>\n",
       "      <td>0</td>\n",
       "      <td>1</td>\n",
       "      <td>3</td>\n",
       "      <td>25582</td>\n",
       "      <td>14999.0</td>\n",
       "    </tr>\n",
       "    <tr>\n",
       "      <th>1834</th>\n",
       "      <td>4.2</td>\n",
       "      <td>2</td>\n",
       "      <td>0</td>\n",
       "      <td>3</td>\n",
       "      <td>3</td>\n",
       "      <td>0</td>\n",
       "      <td>3</td>\n",
       "      <td>7117</td>\n",
       "      <td>18999.0</td>\n",
       "    </tr>\n",
       "    <tr>\n",
       "      <th>1835</th>\n",
       "      <td>4.3</td>\n",
       "      <td>0</td>\n",
       "      <td>2</td>\n",
       "      <td>3</td>\n",
       "      <td>3</td>\n",
       "      <td>3</td>\n",
       "      <td>3</td>\n",
       "      <td>15701</td>\n",
       "      <td>10999.0</td>\n",
       "    </tr>\n",
       "  </tbody>\n",
       "</table>\n",
       "<p>1826 rows × 9 columns</p>\n",
       "</div>"
      ],
      "text/plain": [
       "      Rating ?/5  RAM  ROM/Storage  Back/Rare Camera  Front Camera  Battery  \\\n",
       "0            4.2    3            1                 3             1        1   \n",
       "1            4.2    0            2                 3             2        1   \n",
       "2            4.3    0            2                 3             1        1   \n",
       "3            4.2    0            2                 3             1        1   \n",
       "4            4.3    0            2                 3             1        1   \n",
       "...          ...  ...          ...               ...           ...      ...   \n",
       "1831         4.3    0            2                 3             0        1   \n",
       "1832         4.3    0            2                 3             0        1   \n",
       "1833         4.3    0            2                 3             0        1   \n",
       "1834         4.2    2            0                 3             3        0   \n",
       "1835         4.3    0            2                 3             3        3   \n",
       "\n",
       "      Processor  Num-avaliações    Preco  \n",
       "0             3           33561   5649.0  \n",
       "1             3           77128  11999.0  \n",
       "2             3           15175   6999.0  \n",
       "3             3           22621   7749.0  \n",
       "4             3           15175   6999.0  \n",
       "...         ...             ...      ...  \n",
       "1831          3           25582  14999.0  \n",
       "1832          3           25582  14999.0  \n",
       "1833          3           25582  14999.0  \n",
       "1834          3            7117  18999.0  \n",
       "1835          3           15701  10999.0  \n",
       "\n",
       "[1826 rows x 9 columns]"
      ]
     },
     "execution_count": 384,
     "metadata": {},
     "output_type": "execute_result"
    }
   ],
   "source": [
    "tabela3"
   ]
  },
  {
   "cell_type": "markdown",
   "id": "8df63dff",
   "metadata": {},
   "source": [
    "## Separar treino e teste"
   ]
  },
  {
   "cell_type": "code",
   "execution_count": 385,
   "id": "f7907ce8",
   "metadata": {},
   "outputs": [],
   "source": [
    "X = tabela3.drop('Preco', axis=1)\n",
    "y = tabela3['Preco']"
   ]
  },
  {
   "cell_type": "code",
   "execution_count": 386,
   "id": "fce994ab",
   "metadata": {},
   "outputs": [],
   "source": [
    "X_train, X_test, y_train, y_test = train_test_split(X, y, test_size=0.30, random_state=42)"
   ]
  },
  {
   "cell_type": "markdown",
   "id": "05b881cf",
   "metadata": {},
   "source": [
    "## Criar o modelo"
   ]
  },
  {
   "cell_type": "markdown",
   "id": "b6b2a7bf",
   "metadata": {},
   "source": [
    "## Regressão Linear"
   ]
  },
  {
   "cell_type": "code",
   "execution_count": 387,
   "id": "899b4491",
   "metadata": {},
   "outputs": [
    {
     "data": {
      "text/plain": [
       "LinearRegression()"
      ]
     },
     "execution_count": 387,
     "metadata": {},
     "output_type": "execute_result"
    }
   ],
   "source": [
    "reg = linear_model.LinearRegression()\n",
    "reg.fit(X_train, y_train)"
   ]
  },
  {
   "cell_type": "code",
   "execution_count": 388,
   "id": "a92362b8",
   "metadata": {},
   "outputs": [],
   "source": [
    "previsoes_treino = reg.predict(X_train)"
   ]
  },
  {
   "cell_type": "code",
   "execution_count": 389,
   "id": "c113b005",
   "metadata": {},
   "outputs": [],
   "source": [
    "previsoes_teste = reg.predict(X_test)"
   ]
  },
  {
   "cell_type": "code",
   "execution_count": 390,
   "id": "56f95bac",
   "metadata": {},
   "outputs": [
    {
     "data": {
      "text/plain": [
       "(0.3970427021293965, 0.4139751798630572)"
      ]
     },
     "execution_count": 390,
     "metadata": {},
     "output_type": "execute_result"
    }
   ],
   "source": [
    "reg.score(X_train, y_train), reg.score(X_test, y_test)"
   ]
  },
  {
   "cell_type": "code",
   "execution_count": 391,
   "id": "3ad17433",
   "metadata": {
    "scrolled": true
   },
   "outputs": [
    {
     "data": {
      "text/plain": [
       "18953.93472418116"
      ]
     },
     "execution_count": 391,
     "metadata": {},
     "output_type": "execute_result"
    }
   ],
   "source": [
    "np.sqrt(mean_squared_error(y_test, previsoes_teste))"
   ]
  },
  {
   "cell_type": "markdown",
   "id": "db544d97",
   "metadata": {},
   "source": [
    "## Arvore de decisão"
   ]
  },
  {
   "cell_type": "code",
   "execution_count": 647,
   "id": "d4e59dbb",
   "metadata": {},
   "outputs": [],
   "source": [
    "clf = tree.DecisionTreeRegressor(max_depth=10)\n",
    "clf = clf.fit(X_train, y_train)"
   ]
  },
  {
   "cell_type": "code",
   "execution_count": 648,
   "id": "455b42c5",
   "metadata": {},
   "outputs": [],
   "source": [
    "previsoes_treino = clf.predict(X_train)"
   ]
  },
  {
   "cell_type": "code",
   "execution_count": 649,
   "id": "0f5cedc9",
   "metadata": {},
   "outputs": [],
   "source": [
    "previsoes_teste = clf.predict(X_test)"
   ]
  },
  {
   "cell_type": "code",
   "execution_count": 650,
   "id": "615e82a4",
   "metadata": {},
   "outputs": [
    {
     "data": {
      "text/plain": [
       "(0.9650205350314897, 0.8938865492072712)"
      ]
     },
     "execution_count": 650,
     "metadata": {},
     "output_type": "execute_result"
    }
   ],
   "source": [
    "clf.score(X_train, y_train), clf.score(X_test, y_test)"
   ]
  },
  {
   "cell_type": "code",
   "execution_count": 651,
   "id": "eb03e684",
   "metadata": {},
   "outputs": [
    {
     "data": {
      "text/plain": [
       "8065.412694631307"
      ]
     },
     "execution_count": 651,
     "metadata": {},
     "output_type": "execute_result"
    }
   ],
   "source": [
    "np.sqrt(mean_squared_error(y_test, previsoes_teste))"
   ]
  },
  {
   "cell_type": "markdown",
   "id": "60ae5921",
   "metadata": {},
   "source": [
    "## KNN"
   ]
  },
  {
   "cell_type": "code",
   "execution_count": 720,
   "id": "242a5561",
   "metadata": {},
   "outputs": [],
   "source": [
    "knn = KNeighborsRegressor(n_neighbors=6)"
   ]
  },
  {
   "cell_type": "code",
   "execution_count": 721,
   "id": "79f61e4b",
   "metadata": {},
   "outputs": [
    {
     "data": {
      "text/plain": [
       "KNeighborsRegressor(n_neighbors=6)"
      ]
     },
     "execution_count": 721,
     "metadata": {},
     "output_type": "execute_result"
    }
   ],
   "source": [
    "knn.fit(X_train, y_train)"
   ]
  },
  {
   "cell_type": "code",
   "execution_count": 722,
   "id": "41a65fb4",
   "metadata": {},
   "outputs": [],
   "source": [
    "previsoes_treino = knn.predict(X_train)"
   ]
  },
  {
   "cell_type": "code",
   "execution_count": 723,
   "id": "80bc0295",
   "metadata": {},
   "outputs": [],
   "source": [
    "previsoes_teste = knn.predict(X_test)"
   ]
  },
  {
   "cell_type": "code",
   "execution_count": 724,
   "id": "a635f132",
   "metadata": {},
   "outputs": [
    {
     "data": {
      "text/plain": [
       "(0.6571186239164681, 0.6192843899330467)"
      ]
     },
     "execution_count": 724,
     "metadata": {},
     "output_type": "execute_result"
    }
   ],
   "source": [
    "knn.score(X_train, y_train), knn.score(X_test, y_test)"
   ]
  },
  {
   "cell_type": "code",
   "execution_count": 725,
   "id": "07c463d3",
   "metadata": {},
   "outputs": [
    {
     "data": {
      "text/plain": [
       "15277.128004825754"
      ]
     },
     "execution_count": 725,
     "metadata": {},
     "output_type": "execute_result"
    }
   ],
   "source": [
    "np.sqrt(mean_squared_error(y_test, previsoes_teste))"
   ]
  }
 ],
 "metadata": {
  "kernelspec": {
   "display_name": "Python 3 (ipykernel)",
   "language": "python",
   "name": "python3"
  },
  "language_info": {
   "codemirror_mode": {
    "name": "ipython",
    "version": 3
   },
   "file_extension": ".py",
   "mimetype": "text/x-python",
   "name": "python",
   "nbconvert_exporter": "python",
   "pygments_lexer": "ipython3",
   "version": "3.9.7"
  }
 },
 "nbformat": 4,
 "nbformat_minor": 5
}
